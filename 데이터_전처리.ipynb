{
  "nbformat": 4,
  "nbformat_minor": 0,
  "metadata": {
    "colab": {
      "provenance": [],
      "authorship_tag": "ABX9TyN+WeOHnTVFYq7SFFKKZE9X",
      "include_colab_link": true
    },
    "kernelspec": {
      "name": "python3",
      "display_name": "Python 3"
    },
    "language_info": {
      "name": "python"
    }
  },
  "cells": [
    {
      "cell_type": "markdown",
      "metadata": {
        "id": "view-in-github",
        "colab_type": "text"
      },
      "source": [
        "<a href=\"https://colab.research.google.com/github/Yuni-J/dataKakao/blob/main/%EB%8D%B0%EC%9D%B4%ED%84%B0_%EC%A0%84%EC%B2%98%EB%A6%AC.ipynb\" target=\"_parent\"><img src=\"https://colab.research.google.com/assets/colab-badge.svg\" alt=\"Open In Colab\"/></a>"
      ]
    },
    {
      "cell_type": "markdown",
      "source": [
        "# 01 카카오톡 데이터 전처러\n"
      ],
      "metadata": {
        "id": "r290MrAZFVfq"
      }
    },
    {
      "cell_type": "markdown",
      "source": [
        "구글 드라이브와 코랩 연결하기 (구글 드라이브 마운트)"
      ],
      "metadata": {
        "id": "VuduBRL5Fi46"
      }
    },
    {
      "cell_type": "code",
      "source": [
        "from google.colab import drive\n",
        "drive.mount('/content/drive')"
      ],
      "metadata": {
        "colab": {
          "base_uri": "https://localhost:8080/"
        },
        "id": "dc1gtmx9Fr2c",
        "outputId": "1b1231f7-1d0e-4476-a6c8-cce1fdf136a7"
      },
      "execution_count": null,
      "outputs": [
        {
          "output_type": "stream",
          "name": "stdout",
          "text": [
            "Mounted at /content/drive\n"
          ]
        }
      ]
    },
    {
      "cell_type": "code",
      "execution_count": null,
      "metadata": {
        "id": "6dMPUYhgEXa-"
      },
      "outputs": [],
      "source": [
        "import os\n",
        "import pandas as pd\n",
        "\n",
        "## 폴더 경로\n",
        "f_path = '/content/drive/MyDrive/KakaoTalk_data'\n",
        "\n",
        "## 파일 경로\n",
        "files = {\n",
        "    'katalk_friend.txt'\n",
        "}"
      ]
    },
    {
      "cell_type": "markdown",
      "source": [
        "##정규 표현식 사용\n",
        "\n",
        "\\-+ d{4}년 \\d{1,2}월 \\d{1,2}일 [월화수목금토일]요일 -+\n",
        "\n",
        "- -+ : “-”가 하나 이상 반복  (앞뒤의 긴 하이픈)\n",
        "- \\d{4}년 : 연도 (4자리 숫자 + “년)\n",
        "- \\d{1,2}월 : 월 (1~2자리 숫자 + “월”)\n",
        "- \\d{1,2}일 : 일 (1~2자리 숫자 + “일”)\n",
        "- -+ : \"-\"가 하나 이상 반복 (뒤쪽 하이픈)\n",
        "\n",
        "\n",
        "\\[\\S+\\] \\[오\\S+ \\d{1,2}:\\d{2}\\]\\s+(.+)\n",
        "\n",
        "- \\[\\S+\\]  : 대괄호 안에 공백이 없는 문자열\n",
        "- \\[오\\S+ \\d{1,2}:\\d{2}\\]\\s :\n",
        "- - 오\\S+ : “오”가 들어가는 공백이 없는 문자열\n",
        "- - 공백\n",
        "- -  \\d{1,2}:\\d{2} : 시간 형식\n",
        "- (.+) : 내용 추출\n"
      ],
      "metadata": {
        "id": "Llb4c44wYh_3"
      }
    },
    {
      "cell_type": "code",
      "source": [
        "import re\n",
        "\n",
        "text = \"\"\"--------------- 2022년 1월 16일 일요일 ---------------\n",
        "[민지이잉] [오전 12:02] ㅋㅋㅋㅋㅋㅋㅋㅋㄱㅇㄱㅋㅋㅋㅋㅋ진짴ㅋㅋ\n",
        "[민지이잉] [오전 12:02] 다들 잘쟈!!!\n",
        "[윤희] [오전 12:04] 구랭\n",
        "[윤희] [오전 12:04] 잘쟈\"\"\"\n",
        "\n",
        "# 날짜 패턴 (ex: --------------- 2022년 1월 16일 일요일 ---------------)\n",
        "date_pattern = r\"-+ (\\d{4}년 \\d{1,2}월 \\d{1,2}일 [월화수목금토일]요일) -+\"\n",
        "\n",
        "# 메시지 패턴 (ex: [이름] [오전 12:02] 내용)\n",
        "message_pattern = r\"\\[([^\\]]+)\\] \\[(오전|오후) (\\d{1,2}:\\d{2})\\] (.+)\"\n",
        "\n",
        "# 날짜 찾기\n",
        "date_match = re.search(date_pattern, text)\n",
        "current_date = date_match.group(1) if date_match else \"날짜 없음\"\n",
        "\n",
        "# 메시지 찾기\n",
        "matches = re.finditer(message_pattern, text)\n",
        "\n",
        "for match in matches:\n",
        "    name = match.group(1)   # 이름\n",
        "    am_pm = match.group(2)  # 오전/오후\n",
        "    time = match.group(3)   # 시간 (ex: 12:02)\n",
        "    content = match.group(4)  # 메시지 내용\n",
        "\n",
        "    print(f\"날짜: {current_date}\")\n",
        "    print(f\"사람: {name}\")\n",
        "    print(f\"시간: {am_pm} {time}\")\n",
        "    print(f\"내용: {content}\")\n",
        "    print('-' * 40)\n",
        "\n"
      ],
      "metadata": {
        "colab": {
          "base_uri": "https://localhost:8080/"
        },
        "id": "r2uajADDkmg2",
        "outputId": "00eb7bdf-8652-4215-f224-17ba31038d1a"
      },
      "execution_count": 6,
      "outputs": [
        {
          "output_type": "stream",
          "name": "stdout",
          "text": [
            "날짜: 2022년 1월 16일 일요일\n",
            "사람: 민지이잉\n",
            "시간: 오전 12:02\n",
            "내용: ㅋㅋㅋㅋㅋㅋㅋㅋㄱㅇㄱㅋㅋㅋㅋㅋ진짴ㅋㅋ\n",
            "----------------------------------------\n",
            "날짜: 2022년 1월 16일 일요일\n",
            "사람: 민지이잉\n",
            "시간: 오전 12:02\n",
            "내용: 다들 잘쟈!!!\n",
            "----------------------------------------\n",
            "날짜: 2022년 1월 16일 일요일\n",
            "사람: 윤희\n",
            "시간: 오전 12:04\n",
            "내용: 구랭\n",
            "----------------------------------------\n",
            "날짜: 2022년 1월 16일 일요일\n",
            "사람: 윤희\n",
            "시간: 오전 12:04\n",
            "내용: 잘쟈\n",
            "----------------------------------------\n"
          ]
        }
      ]
    }
  ]
}