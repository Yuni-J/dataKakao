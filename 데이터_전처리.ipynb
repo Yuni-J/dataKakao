{
  "nbformat": 4,
  "nbformat_minor": 0,
  "metadata": {
    "colab": {
      "provenance": [],
      "authorship_tag": "ABX9TyPGn2Is/2+N/X7n86F/VfsM",
      "include_colab_link": true
    },
    "kernelspec": {
      "name": "python3",
      "display_name": "Python 3"
    },
    "language_info": {
      "name": "python"
    }
  },
  "cells": [
    {
      "cell_type": "markdown",
      "metadata": {
        "id": "view-in-github",
        "colab_type": "text"
      },
      "source": [
        "<a href=\"https://colab.research.google.com/github/Yuni-J/dataKakao/blob/main/%EB%8D%B0%EC%9D%B4%ED%84%B0_%EC%A0%84%EC%B2%98%EB%A6%AC.ipynb\" target=\"_parent\"><img src=\"https://colab.research.google.com/assets/colab-badge.svg\" alt=\"Open In Colab\"/></a>"
      ]
    },
    {
      "cell_type": "markdown",
      "source": [
        "# 01 카카오톡 데이터 전처러\n"
      ],
      "metadata": {
        "id": "r290MrAZFVfq"
      }
    },
    {
      "cell_type": "markdown",
      "source": [
        "구글 드라이브와 코랩 연결하기 (구글 드라이브 마운트)"
      ],
      "metadata": {
        "id": "VuduBRL5Fi46"
      }
    },
    {
      "cell_type": "code",
      "source": [
        "from google.colab import drive\n",
        "drive.mount('/content/drive')"
      ],
      "metadata": {
        "colab": {
          "base_uri": "https://localhost:8080/"
        },
        "id": "dc1gtmx9Fr2c",
        "outputId": "1b1231f7-1d0e-4476-a6c8-cce1fdf136a7"
      },
      "execution_count": 1,
      "outputs": [
        {
          "output_type": "stream",
          "name": "stdout",
          "text": [
            "Mounted at /content/drive\n"
          ]
        }
      ]
    },
    {
      "cell_type": "code",
      "execution_count": 2,
      "metadata": {
        "id": "6dMPUYhgEXa-"
      },
      "outputs": [],
      "source": [
        "import os\n",
        "import pandas as pd\n",
        "\n",
        "## 폴더 경로\n",
        "f_path = '/content/drive/MyDrive/KakaoTalk_data'\n",
        "\n",
        "## 파일 경로\n",
        "files = {\n",
        "    'katalk_friend.txt'\n",
        "}"
      ]
    }
  ]
}